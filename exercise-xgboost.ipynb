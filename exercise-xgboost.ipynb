{
 "cells": [
  {
   "cell_type": "markdown",
   "id": "16cfbef8",
   "metadata": {
    "papermill": {
     "duration": 0.016341,
     "end_time": "2022-02-04T20:46:09.383093",
     "exception": false,
     "start_time": "2022-02-04T20:46:09.366752",
     "status": "completed"
    },
    "tags": []
   },
   "source": [
    "**This notebook is an exercise in the [Intermediate Machine Learning](https://www.kaggle.com/learn/intermediate-machine-learning) course.  You can reference the tutorial at [this link](https://www.kaggle.com/alexisbcook/xgboost).**\n",
    "\n",
    "---\n"
   ]
  },
  {
   "cell_type": "markdown",
   "id": "a528f07e",
   "metadata": {
    "papermill": {
     "duration": 0.014427,
     "end_time": "2022-02-04T20:46:09.412991",
     "exception": false,
     "start_time": "2022-02-04T20:46:09.398564",
     "status": "completed"
    },
    "tags": []
   },
   "source": [
    "In this exercise, you will use your new knowledge to train a model with **gradient boosting**.\n",
    "\n",
    "# Setup\n",
    "\n",
    "The questions below will give you feedback on your work. Run the following cell to set up the feedback system."
   ]
  },
  {
   "cell_type": "code",
   "execution_count": 1,
   "id": "7ee3701d",
   "metadata": {
    "execution": {
     "iopub.execute_input": "2022-02-04T20:46:09.456598Z",
     "iopub.status.busy": "2022-02-04T20:46:09.447336Z",
     "iopub.status.idle": "2022-02-04T20:46:12.038457Z",
     "shell.execute_reply": "2022-02-04T20:46:12.039070Z",
     "shell.execute_reply.started": "2022-02-04T20:29:07.390004Z"
    },
    "papermill": {
     "duration": 2.61161,
     "end_time": "2022-02-04T20:46:12.039411",
     "exception": false,
     "start_time": "2022-02-04T20:46:09.427801",
     "status": "completed"
    },
    "tags": []
   },
   "outputs": [
    {
     "name": "stdout",
     "output_type": "stream",
     "text": [
      "Setup Complete\n"
     ]
    }
   ],
   "source": [
    "# Set up code checking\n",
    "import os\n",
    "if not os.path.exists(\"../input/train.csv\"):\n",
    "    os.symlink(\"../input/home-data-for-ml-course/train.csv\", \"../input/train.csv\")  \n",
    "    os.symlink(\"../input/home-data-for-ml-course/test.csv\", \"../input/test.csv\") \n",
    "from learntools.core import binder\n",
    "binder.bind(globals())\n",
    "from learntools.ml_intermediate.ex6 import *\n",
    "print(\"Setup Complete\")"
   ]
  },
  {
   "cell_type": "markdown",
   "id": "28b15c60",
   "metadata": {
    "papermill": {
     "duration": 0.01521,
     "end_time": "2022-02-04T20:46:12.071715",
     "exception": false,
     "start_time": "2022-02-04T20:46:12.056505",
     "status": "completed"
    },
    "tags": []
   },
   "source": [
    "You will work with the [Housing Prices Competition for Kaggle Learn Users](https://www.kaggle.com/c/home-data-for-ml-course) dataset from the previous exercise. \n",
    "\n",
    "![Ames Housing dataset image](https://i.imgur.com/lTJVG4e.png)\n",
    "\n",
    "Run the next code cell without changes to load the training and validation sets in `X_train`, `X_valid`, `y_train`, and `y_valid`.  The test set is loaded in `X_test`."
   ]
  },
  {
   "cell_type": "code",
   "execution_count": 2,
   "id": "d583da9d",
   "metadata": {
    "execution": {
     "iopub.execute_input": "2022-02-04T20:46:12.115475Z",
     "iopub.status.busy": "2022-02-04T20:46:12.114753Z",
     "iopub.status.idle": "2022-02-04T20:46:12.306514Z",
     "shell.execute_reply": "2022-02-04T20:46:12.305979Z",
     "shell.execute_reply.started": "2022-02-04T20:30:00.477104Z"
    },
    "papermill": {
     "duration": 0.219494,
     "end_time": "2022-02-04T20:46:12.306685",
     "exception": false,
     "start_time": "2022-02-04T20:46:12.087191",
     "status": "completed"
    },
    "tags": []
   },
   "outputs": [],
   "source": [
    "import pandas as pd\n",
    "from sklearn.model_selection import train_test_split\n",
    "\n",
    "# Read the data\n",
    "X = pd.read_csv('../input/train.csv', index_col='Id')\n",
    "X_test_full = pd.read_csv('../input/test.csv', index_col='Id')\n",
    "\n",
    "# Remove rows with missing target, separate target from predictors\n",
    "X.dropna(axis=0, subset=['SalePrice'], inplace=True)\n",
    "y = X.SalePrice              \n",
    "X.drop(['SalePrice'], axis=1, inplace=True)\n",
    "\n",
    "# Break off validation set from training data\n",
    "X_train_full, X_valid_full, y_train, y_valid = train_test_split(X, y, train_size=0.8, test_size=0.2,\n",
    "                                                                random_state=0)\n",
    "\n",
    "# \"Cardinality\" means the number of unique values in a column\n",
    "# Select categorical columns with relatively low cardinality (convenient but arbitrary)\n",
    "low_cardinality_cols = [cname for cname in X_train_full.columns if X_train_full[cname].nunique() < 10 and \n",
    "                        X_train_full[cname].dtype == \"object\"]\n",
    "\n",
    "# Select numeric columns\n",
    "numeric_cols = [cname for cname in X_train_full.columns if X_train_full[cname].dtype in ['int64', 'float64']]\n",
    "\n",
    "# Keep selected columns only\n",
    "my_cols = low_cardinality_cols + numeric_cols\n",
    "X_train = X_train_full[my_cols].copy()\n",
    "X_valid = X_valid_full[my_cols].copy()\n",
    "X_test = X_test_full[my_cols].copy()\n",
    "\n",
    "# One-hot encode the data (to shorten the code, we use pandas)\n",
    "X_train = pd.get_dummies(X_train)\n",
    "X_valid = pd.get_dummies(X_valid)\n",
    "X_test = pd.get_dummies(X_test)\n",
    "X_train, X_valid = X_train.align(X_valid, join='left', axis=1)\n",
    "X_train, X_test = X_train.align(X_test, join='left', axis=1)"
   ]
  },
  {
   "cell_type": "markdown",
   "id": "bb1f61f6",
   "metadata": {
    "papermill": {
     "duration": 0.014969,
     "end_time": "2022-02-04T20:46:12.337152",
     "exception": false,
     "start_time": "2022-02-04T20:46:12.322183",
     "status": "completed"
    },
    "tags": []
   },
   "source": [
    "# Step 1: Build model\n",
    "\n",
    "### Part A\n",
    "\n",
    "In this step, you'll build and train your first model with gradient boosting.\n",
    "\n",
    "- Begin by setting `my_model_1` to an XGBoost model.  Use the [XGBRegressor](https://xgboost.readthedocs.io/en/latest/python/python_api.html#xgboost.XGBRegressor) class, and set the random seed to 0 (`random_state=0`).  **Leave all other parameters as default.**\n",
    "- Then, fit the model to the training data in `X_train` and `y_train`."
   ]
  },
  {
   "cell_type": "code",
   "execution_count": 3,
   "id": "1eb4963f",
   "metadata": {
    "execution": {
     "iopub.execute_input": "2022-02-04T20:46:12.370805Z",
     "iopub.status.busy": "2022-02-04T20:46:12.370173Z",
     "iopub.status.idle": "2022-02-04T20:46:13.357247Z",
     "shell.execute_reply": "2022-02-04T20:46:13.357747Z",
     "shell.execute_reply.started": "2022-02-04T20:31:23.148575Z"
    },
    "papermill": {
     "duration": 1.005519,
     "end_time": "2022-02-04T20:46:13.357912",
     "exception": false,
     "start_time": "2022-02-04T20:46:12.352393",
     "status": "completed"
    },
    "tags": []
   },
   "outputs": [
    {
     "data": {
      "application/javascript": [
       "parent.postMessage({\"jupyterEvent\": \"custom.exercise_interaction\", \"data\": {\"outcomeType\": 1, \"valueTowardsCompletion\": 0.5, \"interactionType\": 1, \"questionType\": 2, \"questionId\": \"1.1_Model1A\", \"learnToolsVersion\": \"0.3.4\", \"failureMessage\": \"\", \"exceptionClass\": \"\", \"trace\": \"\"}}, \"*\")"
      ],
      "text/plain": [
       "<IPython.core.display.Javascript object>"
      ]
     },
     "metadata": {},
     "output_type": "display_data"
    },
    {
     "data": {
      "text/markdown": [
       "<span style=\"color:#33cc33\">Correct</span>"
      ],
      "text/plain": [
       "Correct"
      ]
     },
     "metadata": {},
     "output_type": "display_data"
    }
   ],
   "source": [
    "from xgboost import XGBRegressor\n",
    "\n",
    "# Define the model\n",
    "my_model_1 = XGBRegressor(random_state=0) # Your code here\n",
    "\n",
    "# Fit the model\n",
    "my_model_1.fit(X_train,y_train) # Your code here\n",
    "\n",
    "# Check your answer\n",
    "step_1.a.check()"
   ]
  },
  {
   "cell_type": "code",
   "execution_count": 4,
   "id": "0b40f66e",
   "metadata": {
    "execution": {
     "iopub.execute_input": "2022-02-04T20:46:13.394755Z",
     "iopub.status.busy": "2022-02-04T20:46:13.394010Z",
     "iopub.status.idle": "2022-02-04T20:46:13.397851Z",
     "shell.execute_reply": "2022-02-04T20:46:13.397308Z"
    },
    "papermill": {
     "duration": 0.023592,
     "end_time": "2022-02-04T20:46:13.397999",
     "exception": false,
     "start_time": "2022-02-04T20:46:13.374407",
     "status": "completed"
    },
    "tags": []
   },
   "outputs": [],
   "source": [
    "# Lines below will give you a hint or solution code\n",
    "#step_1.a.hint()\n",
    "#step_1.a.solution()"
   ]
  },
  {
   "cell_type": "markdown",
   "id": "117f3720",
   "metadata": {
    "papermill": {
     "duration": 0.016165,
     "end_time": "2022-02-04T20:46:13.430751",
     "exception": false,
     "start_time": "2022-02-04T20:46:13.414586",
     "status": "completed"
    },
    "tags": []
   },
   "source": [
    "### Part B\n",
    "\n",
    "Set `predictions_1` to the model's predictions for the validation data.  Recall that the validation features are stored in `X_valid`."
   ]
  },
  {
   "cell_type": "code",
   "execution_count": 5,
   "id": "c657e0ff",
   "metadata": {
    "execution": {
     "iopub.execute_input": "2022-02-04T20:46:13.467011Z",
     "iopub.status.busy": "2022-02-04T20:46:13.466302Z",
     "iopub.status.idle": "2022-02-04T20:46:13.503206Z",
     "shell.execute_reply": "2022-02-04T20:46:13.503774Z",
     "shell.execute_reply.started": "2022-02-04T20:32:43.744998Z"
    },
    "papermill": {
     "duration": 0.056748,
     "end_time": "2022-02-04T20:46:13.503942",
     "exception": false,
     "start_time": "2022-02-04T20:46:13.447194",
     "status": "completed"
    },
    "tags": []
   },
   "outputs": [
    {
     "data": {
      "application/javascript": [
       "parent.postMessage({\"jupyterEvent\": \"custom.exercise_interaction\", \"data\": {\"outcomeType\": 1, \"valueTowardsCompletion\": 0.5, \"interactionType\": 1, \"questionType\": 2, \"questionId\": \"1.2_Model1B\", \"learnToolsVersion\": \"0.3.4\", \"failureMessage\": \"\", \"exceptionClass\": \"\", \"trace\": \"\"}}, \"*\")"
      ],
      "text/plain": [
       "<IPython.core.display.Javascript object>"
      ]
     },
     "metadata": {},
     "output_type": "display_data"
    },
    {
     "data": {
      "text/markdown": [
       "<span style=\"color:#33cc33\">Correct</span>"
      ],
      "text/plain": [
       "Correct"
      ]
     },
     "metadata": {},
     "output_type": "display_data"
    }
   ],
   "source": [
    "from sklearn.metrics import mean_absolute_error\n",
    "\n",
    "# Get predictions\n",
    "predictions_1 = my_model_1.predict(X_valid) # Your code here\n",
    "\n",
    "# Check your answer\n",
    "step_1.b.check()"
   ]
  },
  {
   "cell_type": "code",
   "execution_count": 6,
   "id": "d9642dfb",
   "metadata": {
    "execution": {
     "iopub.execute_input": "2022-02-04T20:46:13.542890Z",
     "iopub.status.busy": "2022-02-04T20:46:13.542160Z",
     "iopub.status.idle": "2022-02-04T20:46:13.544931Z",
     "shell.execute_reply": "2022-02-04T20:46:13.545564Z",
     "shell.execute_reply.started": "2022-02-04T20:32:26.436791Z"
    },
    "papermill": {
     "duration": 0.024078,
     "end_time": "2022-02-04T20:46:13.545734",
     "exception": false,
     "start_time": "2022-02-04T20:46:13.521656",
     "status": "completed"
    },
    "tags": []
   },
   "outputs": [],
   "source": [
    "# Lines below will give you a hint or solution code\n",
    "#step_1.b.hint()\n",
    "#step_1.b.solution()"
   ]
  },
  {
   "cell_type": "markdown",
   "id": "f941dc4a",
   "metadata": {
    "papermill": {
     "duration": 0.01744,
     "end_time": "2022-02-04T20:46:13.581167",
     "exception": false,
     "start_time": "2022-02-04T20:46:13.563727",
     "status": "completed"
    },
    "tags": []
   },
   "source": [
    "### Part C\n",
    "\n",
    "Finally, use the `mean_absolute_error()` function to calculate the mean absolute error (MAE) corresponding to the predictions for the validation set.  Recall that the labels for the validation data are stored in `y_valid`."
   ]
  },
  {
   "cell_type": "code",
   "execution_count": 7,
   "id": "fbecdafa",
   "metadata": {
    "execution": {
     "iopub.execute_input": "2022-02-04T20:46:13.620132Z",
     "iopub.status.busy": "2022-02-04T20:46:13.619474Z",
     "iopub.status.idle": "2022-02-04T20:46:13.630727Z",
     "shell.execute_reply": "2022-02-04T20:46:13.630146Z",
     "shell.execute_reply.started": "2022-02-04T20:34:01.436067Z"
    },
    "papermill": {
     "duration": 0.031948,
     "end_time": "2022-02-04T20:46:13.630878",
     "exception": false,
     "start_time": "2022-02-04T20:46:13.598930",
     "status": "completed"
    },
    "tags": []
   },
   "outputs": [
    {
     "name": "stdout",
     "output_type": "stream",
     "text": [
      "Mean Absolute Error: 17662.736729452055\n"
     ]
    },
    {
     "data": {
      "application/javascript": [
       "parent.postMessage({\"jupyterEvent\": \"custom.exercise_interaction\", \"data\": {\"outcomeType\": 1, \"valueTowardsCompletion\": 0.5, \"interactionType\": 1, \"questionType\": 2, \"questionId\": \"1.3_Model1C\", \"learnToolsVersion\": \"0.3.4\", \"failureMessage\": \"\", \"exceptionClass\": \"\", \"trace\": \"\"}}, \"*\")"
      ],
      "text/plain": [
       "<IPython.core.display.Javascript object>"
      ]
     },
     "metadata": {},
     "output_type": "display_data"
    },
    {
     "data": {
      "text/markdown": [
       "<span style=\"color:#33cc33\">Correct</span>"
      ],
      "text/plain": [
       "Correct"
      ]
     },
     "metadata": {},
     "output_type": "display_data"
    }
   ],
   "source": [
    "# Calculate MAE\n",
    "mae_1 = mean_absolute_error(predictions_1,y_valid) # Your code here\n",
    "\n",
    "# Uncomment to print MAE\n",
    "print(\"Mean Absolute Error:\" , mae_1)\n",
    "\n",
    "# Check your answer\n",
    "step_1.c.check()"
   ]
  },
  {
   "cell_type": "code",
   "execution_count": 8,
   "id": "c28346e7",
   "metadata": {
    "execution": {
     "iopub.execute_input": "2022-02-04T20:46:13.674895Z",
     "iopub.status.busy": "2022-02-04T20:46:13.674195Z",
     "iopub.status.idle": "2022-02-04T20:46:13.676639Z",
     "shell.execute_reply": "2022-02-04T20:46:13.677169Z"
    },
    "papermill": {
     "duration": 0.027367,
     "end_time": "2022-02-04T20:46:13.677331",
     "exception": false,
     "start_time": "2022-02-04T20:46:13.649964",
     "status": "completed"
    },
    "tags": []
   },
   "outputs": [],
   "source": [
    "# Lines below will give you a hint or solution code\n",
    "#step_1.c.hint()\n",
    "#step_1.c.solution()"
   ]
  },
  {
   "cell_type": "markdown",
   "id": "0acb4e3e",
   "metadata": {
    "papermill": {
     "duration": 0.019062,
     "end_time": "2022-02-04T20:46:13.715496",
     "exception": false,
     "start_time": "2022-02-04T20:46:13.696434",
     "status": "completed"
    },
    "tags": []
   },
   "source": [
    "# Step 2: Improve the model\n",
    "\n",
    "Now that you've trained a default model as baseline, it's time to tinker with the parameters, to see if you can get better performance!\n",
    "- Begin by setting `my_model_2` to an XGBoost model, using the [XGBRegressor](https://xgboost.readthedocs.io/en/latest/python/python_api.html#xgboost.XGBRegressor) class.  Use what you learned in the previous tutorial to figure out how to change the default parameters (like `n_estimators` and `learning_rate`) to get better results.\n",
    "- Then, fit the model to the training data in `X_train` and `y_train`.\n",
    "- Set `predictions_2` to the model's predictions for the validation data.  Recall that the validation features are stored in `X_valid`.\n",
    "- Finally, use the `mean_absolute_error()` function to calculate the mean absolute error (MAE) corresponding to the predictions on the validation set.  Recall that the labels for the validation data are stored in `y_valid`.\n",
    "\n",
    "In order for this step to be marked correct, your model in `my_model_2` must attain lower MAE than the model in `my_model_1`. "
   ]
  },
  {
   "cell_type": "code",
   "execution_count": 9,
   "id": "975c272f",
   "metadata": {
    "execution": {
     "iopub.execute_input": "2022-02-04T20:46:13.757685Z",
     "iopub.status.busy": "2022-02-04T20:46:13.757002Z",
     "iopub.status.idle": "2022-02-04T20:46:15.232136Z",
     "shell.execute_reply": "2022-02-04T20:46:15.232737Z",
     "shell.execute_reply.started": "2022-02-04T20:41:05.186029Z"
    },
    "papermill": {
     "duration": 1.498013,
     "end_time": "2022-02-04T20:46:15.232943",
     "exception": false,
     "start_time": "2022-02-04T20:46:13.734930",
     "status": "completed"
    },
    "tags": []
   },
   "outputs": [
    {
     "name": "stdout",
     "output_type": "stream",
     "text": [
      "Mean Absolute Error: 17407.774735124145\n"
     ]
    },
    {
     "data": {
      "application/javascript": [
       "parent.postMessage({\"jupyterEvent\": \"custom.exercise_interaction\", \"data\": {\"outcomeType\": 1, \"valueTowardsCompletion\": 0.5, \"interactionType\": 1, \"questionType\": 2, \"questionId\": \"2_Model2\", \"learnToolsVersion\": \"0.3.4\", \"failureMessage\": \"\", \"exceptionClass\": \"\", \"trace\": \"\"}}, \"*\")"
      ],
      "text/plain": [
       "<IPython.core.display.Javascript object>"
      ]
     },
     "metadata": {},
     "output_type": "display_data"
    },
    {
     "data": {
      "text/markdown": [
       "<span style=\"color:#33cc33\">Correct</span>"
      ],
      "text/plain": [
       "Correct"
      ]
     },
     "metadata": {},
     "output_type": "display_data"
    }
   ],
   "source": [
    "# Define the model\n",
    "my_model_2 = XGBRegressor(n_estimators=1000,learning_rate=0.1) # Your code here\n",
    "\n",
    "# Fit the model\n",
    "my_model_2.fit(X_train,y_train,early_stopping_rounds=5,eval_set=[(X_valid,y_valid)],verbose=False)\n",
    "# Your code here\n",
    "\n",
    "# Get predictions\n",
    "predictions_2 = my_model_2.predict(X_valid)\n",
    "# Your code here\n",
    "\n",
    "# Calculate MAE\n",
    "mae_2 = mean_absolute_error(predictions_2,y_valid)\n",
    "# Your code here\n",
    "\n",
    "# Uncomment to print MAE\n",
    "print(\"Mean Absolute Error:\" , mae_2)\n",
    "\n",
    "# Check your answer\n",
    "step_2.check()"
   ]
  },
  {
   "cell_type": "code",
   "execution_count": 10,
   "id": "a9edca9c",
   "metadata": {
    "execution": {
     "iopub.execute_input": "2022-02-04T20:46:15.278390Z",
     "iopub.status.busy": "2022-02-04T20:46:15.277118Z",
     "iopub.status.idle": "2022-02-04T20:46:15.281477Z",
     "shell.execute_reply": "2022-02-04T20:46:15.280979Z"
    },
    "papermill": {
     "duration": 0.027423,
     "end_time": "2022-02-04T20:46:15.281657",
     "exception": false,
     "start_time": "2022-02-04T20:46:15.254234",
     "status": "completed"
    },
    "tags": []
   },
   "outputs": [],
   "source": [
    "# Lines below will give you a hint or solution code\n",
    "#step_2.hint()\n",
    "#step_2.solution()"
   ]
  },
  {
   "cell_type": "markdown",
   "id": "3cafdc0a",
   "metadata": {
    "papermill": {
     "duration": 0.019954,
     "end_time": "2022-02-04T20:46:15.321993",
     "exception": false,
     "start_time": "2022-02-04T20:46:15.302039",
     "status": "completed"
    },
    "tags": []
   },
   "source": [
    "# Step 3: Break the model\n",
    "\n",
    "In this step, you will create a model that performs worse than the original model in Step 1.  This will help you to develop your intuition for how to set parameters.  You might even find that you accidentally get better performance, which is ultimately a nice problem to have and a valuable learning experience!\n",
    "- Begin by setting `my_model_3` to an XGBoost model, using the [XGBRegressor](https://xgboost.readthedocs.io/en/latest/python/python_api.html#xgboost.XGBRegressor) class.  Use what you learned in the previous tutorial to figure out how to change the default parameters (like `n_estimators` and `learning_rate`) to design a model to get high MAE.\n",
    "- Then, fit the model to the training data in `X_train` and `y_train`.\n",
    "- Set `predictions_3` to the model's predictions for the validation data.  Recall that the validation features are stored in `X_valid`.\n",
    "- Finally, use the `mean_absolute_error()` function to calculate the mean absolute error (MAE) corresponding to the predictions on the validation set.  Recall that the labels for the validation data are stored in `y_valid`.\n",
    "\n",
    "In order for this step to be marked correct, your model in `my_model_3` must attain higher MAE than the model in `my_model_1`. "
   ]
  },
  {
   "cell_type": "code",
   "execution_count": 11,
   "id": "43e41b84",
   "metadata": {
    "execution": {
     "iopub.execute_input": "2022-02-04T20:46:15.367533Z",
     "iopub.status.busy": "2022-02-04T20:46:15.366618Z",
     "iopub.status.idle": "2022-02-04T20:46:15.614527Z",
     "shell.execute_reply": "2022-02-04T20:46:15.615122Z",
     "shell.execute_reply.started": "2022-02-04T20:45:41.401026Z"
    },
    "papermill": {
     "duration": 0.271603,
     "end_time": "2022-02-04T20:46:15.615313",
     "exception": false,
     "start_time": "2022-02-04T20:46:15.343710",
     "status": "completed"
    },
    "tags": []
   },
   "outputs": [
    {
     "name": "stdout",
     "output_type": "stream",
     "text": [
      "Mean Absolute Error: 22614.23595355308\n"
     ]
    },
    {
     "data": {
      "application/javascript": [
       "parent.postMessage({\"jupyterEvent\": \"custom.exercise_interaction\", \"data\": {\"outcomeType\": 1, \"valueTowardsCompletion\": 0.5, \"interactionType\": 1, \"questionType\": 2, \"questionId\": \"3_Model3\", \"learnToolsVersion\": \"0.3.4\", \"failureMessage\": \"\", \"exceptionClass\": \"\", \"trace\": \"\"}}, \"*\")"
      ],
      "text/plain": [
       "<IPython.core.display.Javascript object>"
      ]
     },
     "metadata": {},
     "output_type": "display_data"
    },
    {
     "data": {
      "text/markdown": [
       "<span style=\"color:#33cc33\">Correct</span>"
      ],
      "text/plain": [
       "Correct"
      ]
     },
     "metadata": {},
     "output_type": "display_data"
    }
   ],
   "source": [
    "# Define the model\n",
    "my_model_3 = XGBRegressor(n_estimators=100,learning_rate=0.8,n_jobs=4)\n",
    "\n",
    "# Fit the model\n",
    "my_model_3.fit(X_train,y_train,early_stopping_rounds=5,eval_set=[(X_valid,y_valid)],verbose=False)\n",
    "# Your code here\n",
    "\n",
    "# Get predictions\n",
    "predictions_3 = my_model_3.predict(X_valid)\n",
    "\n",
    "# Calculate MAE\n",
    "mae_3 = mean_absolute_error(predictions_3,y_valid)\n",
    "\n",
    "# Uncomment to print MAE\n",
    "print(\"Mean Absolute Error:\" , mae_3)\n",
    "\n",
    "# Check your answer\n",
    "step_3.check()"
   ]
  },
  {
   "cell_type": "code",
   "execution_count": 12,
   "id": "29a00c09",
   "metadata": {
    "execution": {
     "iopub.execute_input": "2022-02-04T20:46:15.663871Z",
     "iopub.status.busy": "2022-02-04T20:46:15.662814Z",
     "iopub.status.idle": "2022-02-04T20:46:15.666335Z",
     "shell.execute_reply": "2022-02-04T20:46:15.665748Z"
    },
    "papermill": {
     "duration": 0.028243,
     "end_time": "2022-02-04T20:46:15.666478",
     "exception": false,
     "start_time": "2022-02-04T20:46:15.638235",
     "status": "completed"
    },
    "tags": []
   },
   "outputs": [],
   "source": [
    "# Lines below will give you a hint or solution code\n",
    "#step_3.hint()\n",
    "#step_3.solution()"
   ]
  },
  {
   "cell_type": "markdown",
   "id": "391d8d03",
   "metadata": {
    "papermill": {
     "duration": 0.021698,
     "end_time": "2022-02-04T20:46:15.709901",
     "exception": false,
     "start_time": "2022-02-04T20:46:15.688203",
     "status": "completed"
    },
    "tags": []
   },
   "source": [
    "# Keep going\n",
    "\n",
    "Continue to learn about **[data leakage](https://www.kaggle.com/alexisbcook/data-leakage)**.  This is an important issue for a data scientist to understand, and it has the potential to ruin your models in subtle and dangerous ways!"
   ]
  },
  {
   "cell_type": "markdown",
   "id": "1c549fd8",
   "metadata": {
    "papermill": {
     "duration": 0.022152,
     "end_time": "2022-02-04T20:46:15.754144",
     "exception": false,
     "start_time": "2022-02-04T20:46:15.731992",
     "status": "completed"
    },
    "tags": []
   },
   "source": [
    "---\n",
    "\n",
    "\n",
    "\n",
    "\n",
    "*Have questions or comments? Visit the [course discussion forum](https://www.kaggle.com/learn/intermediate-machine-learning/discussion) to chat with other learners.*"
   ]
  }
 ],
 "metadata": {
  "kernelspec": {
   "display_name": "Python 3",
   "language": "python",
   "name": "python3"
  },
  "language_info": {
   "codemirror_mode": {
    "name": "ipython",
    "version": 3
   },
   "file_extension": ".py",
   "mimetype": "text/x-python",
   "name": "python",
   "nbconvert_exporter": "python",
   "pygments_lexer": "ipython3",
   "version": "3.7.12"
  },
  "papermill": {
   "default_parameters": {},
   "duration": 17.467833,
   "end_time": "2022-02-04T20:46:16.487014",
   "environment_variables": {},
   "exception": null,
   "input_path": "__notebook__.ipynb",
   "output_path": "__notebook__.ipynb",
   "parameters": {},
   "start_time": "2022-02-04T20:45:59.019181",
   "version": "2.3.3"
  }
 },
 "nbformat": 4,
 "nbformat_minor": 5
}
