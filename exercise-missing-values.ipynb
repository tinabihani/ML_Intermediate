{
 "cells": [
  {
   "cell_type": "markdown",
   "id": "6f81bfbf",
   "metadata": {
    "papermill": {
     "duration": 0.024889,
     "end_time": "2022-01-29T14:27:41.183825",
     "exception": false,
     "start_time": "2022-01-29T14:27:41.158936",
     "status": "completed"
    },
    "tags": []
   },
   "source": [
    "Now it's your turn to test your new knowledge of **missing values** handling. You'll probably find it makes a big difference.\n",
    "\n",
    "# Setup\n",
    "\n",
    "The questions will give you feedback on your work. Run the following cell to set up the feedback system."
   ]
  },
  {
   "cell_type": "markdown",
   "id": "6f5e0166",
   "metadata": {
    "papermill": {
     "duration": 0.023965,
     "end_time": "2022-01-29T14:27:41.231442",
     "exception": false,
     "start_time": "2022-01-29T14:27:41.207477",
     "status": "completed"
    },
    "tags": []
   },
   "source": [
    "**This notebook is an exercise in the [Intermediate Machine Learning](https://www.kaggle.com/learn/intermediate-machine-learning) course.  You can reference the tutorial at [this link](https://www.kaggle.com/alexisbcook/missing-values).**\n",
    "\n",
    "---\n"
   ]
  },
  {
   "cell_type": "code",
   "execution_count": 1,
   "id": "72f09643",
   "metadata": {
    "execution": {
     "iopub.execute_input": "2022-01-29T14:27:41.286034Z",
     "iopub.status.busy": "2022-01-29T14:27:41.285087Z",
     "iopub.status.idle": "2022-01-29T14:27:41.333763Z",
     "shell.execute_reply": "2022-01-29T14:27:41.333074Z",
     "shell.execute_reply.started": "2022-01-29T13:51:19.597638Z"
    },
    "papermill": {
     "duration": 0.075793,
     "end_time": "2022-01-29T14:27:41.333911",
     "exception": false,
     "start_time": "2022-01-29T14:27:41.258118",
     "status": "completed"
    },
    "tags": []
   },
   "outputs": [
    {
     "name": "stdout",
     "output_type": "stream",
     "text": [
      "Setup Complete\n"
     ]
    }
   ],
   "source": [
    "# Set up code checking\n",
    "import os\n",
    "if not os.path.exists(\"../input/train.csv\"):\n",
    "    os.symlink(\"../input/home-data-for-ml-course/train.csv\", \"../input/train.csv\")  \n",
    "    os.symlink(\"../input/home-data-for-ml-course/test.csv\", \"../input/test.csv\") \n",
    "from learntools.core import binder\n",
    "binder.bind(globals())\n",
    "from learntools.ml_intermediate.ex2 import *\n",
    "print(\"Setup Complete\")"
   ]
  },
  {
   "cell_type": "markdown",
   "id": "61b4aadc",
   "metadata": {
    "papermill": {
     "duration": 0.022836,
     "end_time": "2022-01-29T14:27:41.379877",
     "exception": false,
     "start_time": "2022-01-29T14:27:41.357041",
     "status": "completed"
    },
    "tags": []
   },
   "source": [
    "In this exercise, you will work with data from the [Housing Prices Competition for Kaggle Learn Users](https://www.kaggle.com/c/home-data-for-ml-course). \n",
    "\n",
    "![Ames Housing dataset image](https://i.imgur.com/lTJVG4e.png)\n",
    "\n",
    "Run the next code cell without changes to load the training and validation sets in `X_train`, `X_valid`, `y_train`, and `y_valid`.  The test set is loaded in `X_test`."
   ]
  },
  {
   "cell_type": "code",
   "execution_count": 2,
   "id": "1d258c26",
   "metadata": {
    "execution": {
     "iopub.execute_input": "2022-01-29T14:27:41.434713Z",
     "iopub.status.busy": "2022-01-29T14:27:41.434156Z",
     "iopub.status.idle": "2022-01-29T14:27:42.436390Z",
     "shell.execute_reply": "2022-01-29T14:27:42.435882Z",
     "shell.execute_reply.started": "2022-01-29T14:05:50.475829Z"
    },
    "papermill": {
     "duration": 1.033412,
     "end_time": "2022-01-29T14:27:42.436522",
     "exception": false,
     "start_time": "2022-01-29T14:27:41.403110",
     "status": "completed"
    },
    "tags": []
   },
   "outputs": [],
   "source": [
    "import pandas as pd\n",
    "from sklearn.model_selection import train_test_split\n",
    "\n",
    "# Read the data\n",
    "X_full = pd.read_csv('../input/train.csv', index_col='Id')\n",
    "X_test_full = pd.read_csv('../input/test.csv', index_col='Id')\n",
    "\n",
    "# Remove rows with missing target, separate target from predictors\n",
    "X_full.dropna(axis=0, subset=['SalePrice'], inplace=True)\n",
    "y = X_full.SalePrice\n",
    "X_full.drop(['SalePrice'], axis=1, inplace=True)\n",
    "\n",
    "# To keep things simple, we'll use only numerical predictors\n",
    "X = X_full.select_dtypes(exclude=['object'])\n",
    "X_test = X_test_full.select_dtypes(exclude=['object'])\n",
    "\n",
    "# Break off validation set from training data\n",
    "X_train, X_valid, y_train, y_valid = train_test_split(X, y, train_size=0.8, test_size=0.2,\n",
    "                                                      random_state=0)"
   ]
  },
  {
   "cell_type": "markdown",
   "id": "971e53d6",
   "metadata": {
    "papermill": {
     "duration": 0.022483,
     "end_time": "2022-01-29T14:27:42.482015",
     "exception": false,
     "start_time": "2022-01-29T14:27:42.459532",
     "status": "completed"
    },
    "tags": []
   },
   "source": [
    "Use the next code cell to print the first five rows of the data."
   ]
  },
  {
   "cell_type": "code",
   "execution_count": 3,
   "id": "735486b8",
   "metadata": {
    "execution": {
     "iopub.execute_input": "2022-01-29T14:27:42.538800Z",
     "iopub.status.busy": "2022-01-29T14:27:42.538219Z",
     "iopub.status.idle": "2022-01-29T14:27:42.556488Z",
     "shell.execute_reply": "2022-01-29T14:27:42.556998Z",
     "shell.execute_reply.started": "2022-01-29T14:06:02.938239Z"
    },
    "papermill": {
     "duration": 0.052232,
     "end_time": "2022-01-29T14:27:42.557136",
     "exception": false,
     "start_time": "2022-01-29T14:27:42.504904",
     "status": "completed"
    },
    "tags": []
   },
   "outputs": [
    {
     "data": {
      "text/html": [
       "<div>\n",
       "<style scoped>\n",
       "    .dataframe tbody tr th:only-of-type {\n",
       "        vertical-align: middle;\n",
       "    }\n",
       "\n",
       "    .dataframe tbody tr th {\n",
       "        vertical-align: top;\n",
       "    }\n",
       "\n",
       "    .dataframe thead th {\n",
       "        text-align: right;\n",
       "    }\n",
       "</style>\n",
       "<table border=\"1\" class=\"dataframe\">\n",
       "  <thead>\n",
       "    <tr style=\"text-align: right;\">\n",
       "      <th></th>\n",
       "      <th>MSSubClass</th>\n",
       "      <th>LotFrontage</th>\n",
       "      <th>LotArea</th>\n",
       "      <th>OverallQual</th>\n",
       "      <th>OverallCond</th>\n",
       "      <th>YearBuilt</th>\n",
       "      <th>YearRemodAdd</th>\n",
       "      <th>MasVnrArea</th>\n",
       "      <th>BsmtFinSF1</th>\n",
       "      <th>BsmtFinSF2</th>\n",
       "      <th>...</th>\n",
       "      <th>GarageArea</th>\n",
       "      <th>WoodDeckSF</th>\n",
       "      <th>OpenPorchSF</th>\n",
       "      <th>EnclosedPorch</th>\n",
       "      <th>3SsnPorch</th>\n",
       "      <th>ScreenPorch</th>\n",
       "      <th>PoolArea</th>\n",
       "      <th>MiscVal</th>\n",
       "      <th>MoSold</th>\n",
       "      <th>YrSold</th>\n",
       "    </tr>\n",
       "    <tr>\n",
       "      <th>Id</th>\n",
       "      <th></th>\n",
       "      <th></th>\n",
       "      <th></th>\n",
       "      <th></th>\n",
       "      <th></th>\n",
       "      <th></th>\n",
       "      <th></th>\n",
       "      <th></th>\n",
       "      <th></th>\n",
       "      <th></th>\n",
       "      <th></th>\n",
       "      <th></th>\n",
       "      <th></th>\n",
       "      <th></th>\n",
       "      <th></th>\n",
       "      <th></th>\n",
       "      <th></th>\n",
       "      <th></th>\n",
       "      <th></th>\n",
       "      <th></th>\n",
       "      <th></th>\n",
       "    </tr>\n",
       "  </thead>\n",
       "  <tbody>\n",
       "    <tr>\n",
       "      <th>619</th>\n",
       "      <td>20</td>\n",
       "      <td>90.0</td>\n",
       "      <td>11694</td>\n",
       "      <td>9</td>\n",
       "      <td>5</td>\n",
       "      <td>2007</td>\n",
       "      <td>2007</td>\n",
       "      <td>452.0</td>\n",
       "      <td>48</td>\n",
       "      <td>0</td>\n",
       "      <td>...</td>\n",
       "      <td>774</td>\n",
       "      <td>0</td>\n",
       "      <td>108</td>\n",
       "      <td>0</td>\n",
       "      <td>0</td>\n",
       "      <td>260</td>\n",
       "      <td>0</td>\n",
       "      <td>0</td>\n",
       "      <td>7</td>\n",
       "      <td>2007</td>\n",
       "    </tr>\n",
       "    <tr>\n",
       "      <th>871</th>\n",
       "      <td>20</td>\n",
       "      <td>60.0</td>\n",
       "      <td>6600</td>\n",
       "      <td>5</td>\n",
       "      <td>5</td>\n",
       "      <td>1962</td>\n",
       "      <td>1962</td>\n",
       "      <td>0.0</td>\n",
       "      <td>0</td>\n",
       "      <td>0</td>\n",
       "      <td>...</td>\n",
       "      <td>308</td>\n",
       "      <td>0</td>\n",
       "      <td>0</td>\n",
       "      <td>0</td>\n",
       "      <td>0</td>\n",
       "      <td>0</td>\n",
       "      <td>0</td>\n",
       "      <td>0</td>\n",
       "      <td>8</td>\n",
       "      <td>2009</td>\n",
       "    </tr>\n",
       "    <tr>\n",
       "      <th>93</th>\n",
       "      <td>30</td>\n",
       "      <td>80.0</td>\n",
       "      <td>13360</td>\n",
       "      <td>5</td>\n",
       "      <td>7</td>\n",
       "      <td>1921</td>\n",
       "      <td>2006</td>\n",
       "      <td>0.0</td>\n",
       "      <td>713</td>\n",
       "      <td>0</td>\n",
       "      <td>...</td>\n",
       "      <td>432</td>\n",
       "      <td>0</td>\n",
       "      <td>0</td>\n",
       "      <td>44</td>\n",
       "      <td>0</td>\n",
       "      <td>0</td>\n",
       "      <td>0</td>\n",
       "      <td>0</td>\n",
       "      <td>8</td>\n",
       "      <td>2009</td>\n",
       "    </tr>\n",
       "    <tr>\n",
       "      <th>818</th>\n",
       "      <td>20</td>\n",
       "      <td>NaN</td>\n",
       "      <td>13265</td>\n",
       "      <td>8</td>\n",
       "      <td>5</td>\n",
       "      <td>2002</td>\n",
       "      <td>2002</td>\n",
       "      <td>148.0</td>\n",
       "      <td>1218</td>\n",
       "      <td>0</td>\n",
       "      <td>...</td>\n",
       "      <td>857</td>\n",
       "      <td>150</td>\n",
       "      <td>59</td>\n",
       "      <td>0</td>\n",
       "      <td>0</td>\n",
       "      <td>0</td>\n",
       "      <td>0</td>\n",
       "      <td>0</td>\n",
       "      <td>7</td>\n",
       "      <td>2008</td>\n",
       "    </tr>\n",
       "    <tr>\n",
       "      <th>303</th>\n",
       "      <td>20</td>\n",
       "      <td>118.0</td>\n",
       "      <td>13704</td>\n",
       "      <td>7</td>\n",
       "      <td>5</td>\n",
       "      <td>2001</td>\n",
       "      <td>2002</td>\n",
       "      <td>150.0</td>\n",
       "      <td>0</td>\n",
       "      <td>0</td>\n",
       "      <td>...</td>\n",
       "      <td>843</td>\n",
       "      <td>468</td>\n",
       "      <td>81</td>\n",
       "      <td>0</td>\n",
       "      <td>0</td>\n",
       "      <td>0</td>\n",
       "      <td>0</td>\n",
       "      <td>0</td>\n",
       "      <td>1</td>\n",
       "      <td>2006</td>\n",
       "    </tr>\n",
       "  </tbody>\n",
       "</table>\n",
       "<p>5 rows × 36 columns</p>\n",
       "</div>"
      ],
      "text/plain": [
       "     MSSubClass  LotFrontage  LotArea  OverallQual  OverallCond  YearBuilt  \\\n",
       "Id                                                                           \n",
       "619          20         90.0    11694            9            5       2007   \n",
       "871          20         60.0     6600            5            5       1962   \n",
       "93           30         80.0    13360            5            7       1921   \n",
       "818          20          NaN    13265            8            5       2002   \n",
       "303          20        118.0    13704            7            5       2001   \n",
       "\n",
       "     YearRemodAdd  MasVnrArea  BsmtFinSF1  BsmtFinSF2  ...  GarageArea  \\\n",
       "Id                                                     ...               \n",
       "619          2007       452.0          48           0  ...         774   \n",
       "871          1962         0.0           0           0  ...         308   \n",
       "93           2006         0.0         713           0  ...         432   \n",
       "818          2002       148.0        1218           0  ...         857   \n",
       "303          2002       150.0           0           0  ...         843   \n",
       "\n",
       "     WoodDeckSF  OpenPorchSF  EnclosedPorch  3SsnPorch  ScreenPorch  PoolArea  \\\n",
       "Id                                                                              \n",
       "619           0          108              0          0          260         0   \n",
       "871           0            0              0          0            0         0   \n",
       "93            0            0             44          0            0         0   \n",
       "818         150           59              0          0            0         0   \n",
       "303         468           81              0          0            0         0   \n",
       "\n",
       "     MiscVal  MoSold  YrSold  \n",
       "Id                            \n",
       "619        0       7    2007  \n",
       "871        0       8    2009  \n",
       "93         0       8    2009  \n",
       "818        0       7    2008  \n",
       "303        0       1    2006  \n",
       "\n",
       "[5 rows x 36 columns]"
      ]
     },
     "execution_count": 3,
     "metadata": {},
     "output_type": "execute_result"
    }
   ],
   "source": [
    "X_train.head()"
   ]
  },
  {
   "cell_type": "markdown",
   "id": "8c77beb0",
   "metadata": {
    "papermill": {
     "duration": 0.024344,
     "end_time": "2022-01-29T14:27:42.605032",
     "exception": false,
     "start_time": "2022-01-29T14:27:42.580688",
     "status": "completed"
    },
    "tags": []
   },
   "source": [
    "You can already see a few missing values in the first several rows.  In the next step, you'll obtain a more comprehensive understanding of the missing values in the dataset.\n",
    "\n",
    "# Step 1: Preliminary investigation\n",
    "\n",
    "Run the code cell below without changes."
   ]
  },
  {
   "cell_type": "code",
   "execution_count": 4,
   "id": "67266586",
   "metadata": {
    "execution": {
     "iopub.execute_input": "2022-01-29T14:27:42.656097Z",
     "iopub.status.busy": "2022-01-29T14:27:42.653789Z",
     "iopub.status.idle": "2022-01-29T14:27:42.662473Z",
     "shell.execute_reply": "2022-01-29T14:27:42.662997Z",
     "shell.execute_reply.started": "2022-01-29T14:06:13.306586Z"
    },
    "papermill": {
     "duration": 0.034913,
     "end_time": "2022-01-29T14:27:42.663143",
     "exception": false,
     "start_time": "2022-01-29T14:27:42.628230",
     "status": "completed"
    },
    "tags": []
   },
   "outputs": [
    {
     "name": "stdout",
     "output_type": "stream",
     "text": [
      "(1168, 36)\n",
      "LotFrontage    212\n",
      "MasVnrArea       6\n",
      "GarageYrBlt     58\n",
      "dtype: int64\n"
     ]
    }
   ],
   "source": [
    "# Shape of training data (num_rows, num_columns)\n",
    "print(X_train.shape)\n",
    "\n",
    "# Number of missing values in each column of training data\n",
    "missing_val_count_by_column = (X_train.isnull().sum())\n",
    "print(missing_val_count_by_column[missing_val_count_by_column > 0])"
   ]
  },
  {
   "cell_type": "markdown",
   "id": "12f8ddd2",
   "metadata": {
    "papermill": {
     "duration": 0.023354,
     "end_time": "2022-01-29T14:27:42.709981",
     "exception": false,
     "start_time": "2022-01-29T14:27:42.686627",
     "status": "completed"
    },
    "tags": []
   },
   "source": [
    "### Part A\n",
    "\n",
    "Use the above output to answer the questions below."
   ]
  },
  {
   "cell_type": "code",
   "execution_count": 5,
   "id": "a8ff1fe0",
   "metadata": {
    "execution": {
     "iopub.execute_input": "2022-01-29T14:27:42.760910Z",
     "iopub.status.busy": "2022-01-29T14:27:42.760293Z",
     "iopub.status.idle": "2022-01-29T14:27:42.766912Z",
     "shell.execute_reply": "2022-01-29T14:27:42.767368Z",
     "shell.execute_reply.started": "2022-01-29T14:07:18.816863Z"
    },
    "papermill": {
     "duration": 0.034038,
     "end_time": "2022-01-29T14:27:42.767515",
     "exception": false,
     "start_time": "2022-01-29T14:27:42.733477",
     "status": "completed"
    },
    "tags": []
   },
   "outputs": [
    {
     "data": {
      "application/javascript": [
       "parent.postMessage({\"jupyterEvent\": \"custom.exercise_interaction\", \"data\": {\"outcomeType\": 1, \"valueTowardsCompletion\": 1.0, \"interactionType\": 1, \"questionType\": 1, \"questionId\": \"1.1_InvestigateEquality\", \"learnToolsVersion\": \"0.3.4\", \"failureMessage\": \"\", \"exceptionClass\": \"\", \"trace\": \"\"}}, \"*\")"
      ],
      "text/plain": [
       "<IPython.core.display.Javascript object>"
      ]
     },
     "metadata": {},
     "output_type": "display_data"
    },
    {
     "data": {
      "text/markdown": [
       "<span style=\"color:#33cc33\">Correct</span>"
      ],
      "text/plain": [
       "Correct"
      ]
     },
     "metadata": {},
     "output_type": "display_data"
    }
   ],
   "source": [
    "# Fill in the line below: How many rows are in the training data?\n",
    "num_rows = 1168\n",
    "\n",
    "# Fill in the line below: How many columns in the training data\n",
    "# have missing values?\n",
    "num_cols_with_missing = 3\n",
    "\n",
    "# Fill in the line below: How many missing entries are contained in \n",
    "# all of the training data?\n",
    "tot_missing = 276\n",
    "\n",
    "# Check your answers\n",
    "step_1.a.check()"
   ]
  },
  {
   "cell_type": "code",
   "execution_count": 6,
   "id": "d04e43d4",
   "metadata": {
    "execution": {
     "iopub.execute_input": "2022-01-29T14:27:42.821023Z",
     "iopub.status.busy": "2022-01-29T14:27:42.820519Z",
     "iopub.status.idle": "2022-01-29T14:27:42.823131Z",
     "shell.execute_reply": "2022-01-29T14:27:42.823593Z"
    },
    "papermill": {
     "duration": 0.031696,
     "end_time": "2022-01-29T14:27:42.823757",
     "exception": false,
     "start_time": "2022-01-29T14:27:42.792061",
     "status": "completed"
    },
    "tags": []
   },
   "outputs": [],
   "source": [
    "# Lines below will give you a hint or solution code\n",
    "#step_1.a.hint()\n",
    "#step_1.a.solution()"
   ]
  },
  {
   "cell_type": "markdown",
   "id": "9d35d207",
   "metadata": {
    "papermill": {
     "duration": 0.024293,
     "end_time": "2022-01-29T14:27:42.872587",
     "exception": false,
     "start_time": "2022-01-29T14:27:42.848294",
     "status": "completed"
    },
    "tags": []
   },
   "source": [
    "### Part B\n",
    "Considering your answers above, what do you think is likely the best approach to dealing with the missing values?"
   ]
  },
  {
   "cell_type": "code",
   "execution_count": 7,
   "id": "948d68d9",
   "metadata": {
    "execution": {
     "iopub.execute_input": "2022-01-29T14:27:42.927210Z",
     "iopub.status.busy": "2022-01-29T14:27:42.924652Z",
     "iopub.status.idle": "2022-01-29T14:27:42.935041Z",
     "shell.execute_reply": "2022-01-29T14:27:42.935830Z",
     "shell.execute_reply.started": "2022-01-29T14:07:49.311054Z"
    },
    "papermill": {
     "duration": 0.039116,
     "end_time": "2022-01-29T14:27:42.936036",
     "exception": false,
     "start_time": "2022-01-29T14:27:42.896920",
     "status": "completed"
    },
    "tags": []
   },
   "outputs": [
    {
     "data": {
      "application/javascript": [
       "parent.postMessage({\"jupyterEvent\": \"custom.exercise_interaction\", \"data\": {\"outcomeType\": 1, \"valueTowardsCompletion\": 1.0, \"interactionType\": 1, \"questionType\": 4, \"questionId\": \"1.2_InvestigateThought\", \"learnToolsVersion\": \"0.3.4\", \"failureMessage\": \"\", \"exceptionClass\": \"\", \"trace\": \"\"}}, \"*\")"
      ],
      "text/plain": [
       "<IPython.core.display.Javascript object>"
      ]
     },
     "metadata": {},
     "output_type": "display_data"
    },
    {
     "data": {
      "text/markdown": [
       "<span style=\"color:#33cc33\">Correct:</span> \n",
       "\n",
       "Since there are relatively few missing entries in the data (the column with the greatest percentage of missing values is missing less than 20% of its entries), we can expect that dropping columns is unlikely to yield good results.  This is because we'd be throwing away a lot of valuable data, and so imputation will likely perform better."
      ],
      "text/plain": [
       "Correct: \n",
       "\n",
       "Since there are relatively few missing entries in the data (the column with the greatest percentage of missing values is missing less than 20% of its entries), we can expect that dropping columns is unlikely to yield good results.  This is because we'd be throwing away a lot of valuable data, and so imputation will likely perform better."
      ]
     },
     "metadata": {},
     "output_type": "display_data"
    }
   ],
   "source": [
    "# Check your answer (Run this code cell to receive credit!)\n",
    "step_1.b.check()"
   ]
  },
  {
   "cell_type": "code",
   "execution_count": 8,
   "id": "4ab46fdc",
   "metadata": {
    "execution": {
     "iopub.execute_input": "2022-01-29T14:27:43.029100Z",
     "iopub.status.busy": "2022-01-29T14:27:43.027570Z",
     "iopub.status.idle": "2022-01-29T14:27:43.030632Z",
     "shell.execute_reply": "2022-01-29T14:27:43.031138Z"
    },
    "papermill": {
     "duration": 0.050759,
     "end_time": "2022-01-29T14:27:43.031299",
     "exception": false,
     "start_time": "2022-01-29T14:27:42.980540",
     "status": "completed"
    },
    "tags": []
   },
   "outputs": [],
   "source": [
    "#step_1.b.hint()"
   ]
  },
  {
   "cell_type": "markdown",
   "id": "47fde823",
   "metadata": {
    "papermill": {
     "duration": 0.025347,
     "end_time": "2022-01-29T14:27:43.082031",
     "exception": false,
     "start_time": "2022-01-29T14:27:43.056684",
     "status": "completed"
    },
    "tags": []
   },
   "source": [
    "To compare different approaches to dealing with missing values, you'll use the same `score_dataset()` function from the tutorial.  This function reports the [mean absolute error](https://en.wikipedia.org/wiki/Mean_absolute_error) (MAE) from a random forest model."
   ]
  },
  {
   "cell_type": "code",
   "execution_count": 9,
   "id": "22001913",
   "metadata": {
    "execution": {
     "iopub.execute_input": "2022-01-29T14:27:43.137176Z",
     "iopub.status.busy": "2022-01-29T14:27:43.136475Z",
     "iopub.status.idle": "2022-01-29T14:27:43.306622Z",
     "shell.execute_reply": "2022-01-29T14:27:43.306019Z",
     "shell.execute_reply.started": "2022-01-29T14:09:15.040885Z"
    },
    "papermill": {
     "duration": 0.198159,
     "end_time": "2022-01-29T14:27:43.306751",
     "exception": false,
     "start_time": "2022-01-29T14:27:43.108592",
     "status": "completed"
    },
    "tags": []
   },
   "outputs": [],
   "source": [
    "from sklearn.ensemble import RandomForestRegressor\n",
    "from sklearn.metrics import mean_absolute_error\n",
    "\n",
    "# Function for comparing different approaches\n",
    "def score_dataset(X_train, X_valid, y_train, y_valid):\n",
    "    model = RandomForestRegressor(n_estimators=100, random_state=0)\n",
    "    model.fit(X_train, y_train)\n",
    "    preds = model.predict(X_valid)\n",
    "    return mean_absolute_error(y_valid, preds)"
   ]
  },
  {
   "cell_type": "markdown",
   "id": "37ed5928",
   "metadata": {
    "papermill": {
     "duration": 0.025114,
     "end_time": "2022-01-29T14:27:43.357274",
     "exception": false,
     "start_time": "2022-01-29T14:27:43.332160",
     "status": "completed"
    },
    "tags": []
   },
   "source": [
    "# Step 2: Drop columns with missing values\n",
    "\n",
    "In this step, you'll preprocess the data in `X_train` and `X_valid` to remove columns with missing values.  Set the preprocessed DataFrames to `reduced_X_train` and `reduced_X_valid`, respectively.  "
   ]
  },
  {
   "cell_type": "code",
   "execution_count": 10,
   "id": "2a60e06d",
   "metadata": {
    "execution": {
     "iopub.execute_input": "2022-01-29T14:27:43.437377Z",
     "iopub.status.busy": "2022-01-29T14:27:43.436647Z",
     "iopub.status.idle": "2022-01-29T14:27:43.462895Z",
     "shell.execute_reply": "2022-01-29T14:27:43.462374Z",
     "shell.execute_reply.started": "2022-01-29T14:10:12.281324Z"
    },
    "papermill": {
     "duration": 0.071478,
     "end_time": "2022-01-29T14:27:43.463017",
     "exception": false,
     "start_time": "2022-01-29T14:27:43.391539",
     "status": "completed"
    },
    "tags": []
   },
   "outputs": [
    {
     "data": {
      "application/javascript": [
       "parent.postMessage({\"jupyterEvent\": \"custom.exercise_interaction\", \"data\": {\"outcomeType\": 1, \"valueTowardsCompletion\": 1.0, \"interactionType\": 1, \"questionType\": 2, \"questionId\": \"2_DropMissing\", \"learnToolsVersion\": \"0.3.4\", \"failureMessage\": \"\", \"exceptionClass\": \"\", \"trace\": \"\"}}, \"*\")"
      ],
      "text/plain": [
       "<IPython.core.display.Javascript object>"
      ]
     },
     "metadata": {},
     "output_type": "display_data"
    },
    {
     "data": {
      "text/markdown": [
       "<span style=\"color:#33cc33\">Correct</span>"
      ],
      "text/plain": [
       "Correct"
      ]
     },
     "metadata": {},
     "output_type": "display_data"
    }
   ],
   "source": [
    "# Fill in the line below: get names of columns with missing values\n",
    "____ # Your code here\n",
    "\n",
    "# Fill in the lines below: drop columns in training and validation data\n",
    "reduced_X_train = X_train.dropna(axis=1)\n",
    "reduced_X_valid = X_valid.dropna(axis=1)\n",
    "\n",
    "# Check your answers\n",
    "step_2.check()"
   ]
  },
  {
   "cell_type": "code",
   "execution_count": 11,
   "id": "49e14f67",
   "metadata": {
    "execution": {
     "iopub.execute_input": "2022-01-29T14:27:43.521441Z",
     "iopub.status.busy": "2022-01-29T14:27:43.520733Z",
     "iopub.status.idle": "2022-01-29T14:27:43.524441Z",
     "shell.execute_reply": "2022-01-29T14:27:43.523919Z"
    },
    "papermill": {
     "duration": 0.034826,
     "end_time": "2022-01-29T14:27:43.524559",
     "exception": false,
     "start_time": "2022-01-29T14:27:43.489733",
     "status": "completed"
    },
    "tags": []
   },
   "outputs": [],
   "source": [
    "# Lines below will give you a hint or solution code\n",
    "#step_2.hint()\n",
    "#step_2.solution()"
   ]
  },
  {
   "cell_type": "markdown",
   "id": "a118fca5",
   "metadata": {
    "papermill": {
     "duration": 0.026082,
     "end_time": "2022-01-29T14:27:43.577905",
     "exception": false,
     "start_time": "2022-01-29T14:27:43.551823",
     "status": "completed"
    },
    "tags": []
   },
   "source": [
    "Run the next code cell without changes to obtain the MAE for this approach."
   ]
  },
  {
   "cell_type": "code",
   "execution_count": 12,
   "id": "eca03ac8",
   "metadata": {
    "execution": {
     "iopub.execute_input": "2022-01-29T14:27:43.638814Z",
     "iopub.status.busy": "2022-01-29T14:27:43.638076Z",
     "iopub.status.idle": "2022-01-29T14:27:44.831896Z",
     "shell.execute_reply": "2022-01-29T14:27:44.831069Z",
     "shell.execute_reply.started": "2022-01-29T14:10:27.220505Z"
    },
    "papermill": {
     "duration": 1.227143,
     "end_time": "2022-01-29T14:27:44.832062",
     "exception": false,
     "start_time": "2022-01-29T14:27:43.604919",
     "status": "completed"
    },
    "tags": []
   },
   "outputs": [
    {
     "name": "stdout",
     "output_type": "stream",
     "text": [
      "MAE (Drop columns with missing values):\n",
      "17837.82570776256\n"
     ]
    }
   ],
   "source": [
    "print(\"MAE (Drop columns with missing values):\")\n",
    "print(score_dataset(reduced_X_train, reduced_X_valid, y_train, y_valid))"
   ]
  },
  {
   "cell_type": "markdown",
   "id": "b84d6ef1",
   "metadata": {
    "papermill": {
     "duration": 0.040786,
     "end_time": "2022-01-29T14:27:44.914663",
     "exception": false,
     "start_time": "2022-01-29T14:27:44.873877",
     "status": "completed"
    },
    "tags": []
   },
   "source": [
    "# Step 3: Imputation\n",
    "\n",
    "### Part A\n",
    "\n",
    "Use the next code cell to impute missing values with the mean value along each column.  Set the preprocessed DataFrames to `imputed_X_train` and `imputed_X_valid`.  Make sure that the column names match those in `X_train` and `X_valid`."
   ]
  },
  {
   "cell_type": "code",
   "execution_count": 13,
   "id": "3a2f230f",
   "metadata": {
    "execution": {
     "iopub.execute_input": "2022-01-29T14:27:45.003887Z",
     "iopub.status.busy": "2022-01-29T14:27:45.003056Z",
     "iopub.status.idle": "2022-01-29T14:27:45.029560Z",
     "shell.execute_reply": "2022-01-29T14:27:45.030117Z",
     "shell.execute_reply.started": "2022-01-29T14:13:35.149114Z"
    },
    "papermill": {
     "duration": 0.07394,
     "end_time": "2022-01-29T14:27:45.030331",
     "exception": false,
     "start_time": "2022-01-29T14:27:44.956391",
     "status": "completed"
    },
    "tags": []
   },
   "outputs": [
    {
     "data": {
      "application/javascript": [
       "parent.postMessage({\"jupyterEvent\": \"custom.exercise_interaction\", \"data\": {\"outcomeType\": 1, \"valueTowardsCompletion\": 1.0, \"interactionType\": 1, \"questionType\": 2, \"questionId\": \"3.1_ImputeCode\", \"learnToolsVersion\": \"0.3.4\", \"failureMessage\": \"\", \"exceptionClass\": \"\", \"trace\": \"\"}}, \"*\")"
      ],
      "text/plain": [
       "<IPython.core.display.Javascript object>"
      ]
     },
     "metadata": {},
     "output_type": "display_data"
    },
    {
     "data": {
      "text/markdown": [
       "<span style=\"color:#33cc33\">Correct</span>"
      ],
      "text/plain": [
       "Correct"
      ]
     },
     "metadata": {},
     "output_type": "display_data"
    }
   ],
   "source": [
    "from sklearn.impute import SimpleImputer\n",
    "\n",
    "# Fill in the lines below: imputation\n",
    "impute=SimpleImputer()\n",
    "# Your code here\n",
    "imputed_X_train = pd.DataFrame(impute.fit_transform(X_train))\n",
    "imputed_X_valid = pd.DataFrame(impute.transform(X_valid))\n",
    "\n",
    "# Fill in the lines below: imputation removed column names; put them back\n",
    "imputed_X_train.columns = X_train.columns\n",
    "imputed_X_valid.columns = X_valid.columns\n",
    "\n",
    "# Check your answers\n",
    "step_3.a.check()"
   ]
  },
  {
   "cell_type": "code",
   "execution_count": 14,
   "id": "4b53d526",
   "metadata": {
    "execution": {
     "iopub.execute_input": "2022-01-29T14:27:45.119287Z",
     "iopub.status.busy": "2022-01-29T14:27:45.118438Z",
     "iopub.status.idle": "2022-01-29T14:27:45.120936Z",
     "shell.execute_reply": "2022-01-29T14:27:45.121590Z"
    },
    "papermill": {
     "duration": 0.048964,
     "end_time": "2022-01-29T14:27:45.121748",
     "exception": false,
     "start_time": "2022-01-29T14:27:45.072784",
     "status": "completed"
    },
    "tags": []
   },
   "outputs": [],
   "source": [
    "# Lines below will give you a hint or solution code\n",
    "#step_3.a.hint()\n",
    "#step_3.a.solution()"
   ]
  },
  {
   "cell_type": "markdown",
   "id": "e61d9891",
   "metadata": {
    "papermill": {
     "duration": 0.042095,
     "end_time": "2022-01-29T14:27:45.206640",
     "exception": false,
     "start_time": "2022-01-29T14:27:45.164545",
     "status": "completed"
    },
    "tags": []
   },
   "source": [
    "Run the next code cell without changes to obtain the MAE for this approach."
   ]
  },
  {
   "cell_type": "code",
   "execution_count": 15,
   "id": "919d5844",
   "metadata": {
    "execution": {
     "iopub.execute_input": "2022-01-29T14:27:45.294835Z",
     "iopub.status.busy": "2022-01-29T14:27:45.293944Z",
     "iopub.status.idle": "2022-01-29T14:27:46.628424Z",
     "shell.execute_reply": "2022-01-29T14:27:46.627857Z",
     "shell.execute_reply.started": "2022-01-29T14:13:43.120389Z"
    },
    "papermill": {
     "duration": 1.379281,
     "end_time": "2022-01-29T14:27:46.628556",
     "exception": false,
     "start_time": "2022-01-29T14:27:45.249275",
     "status": "completed"
    },
    "tags": []
   },
   "outputs": [
    {
     "name": "stdout",
     "output_type": "stream",
     "text": [
      "MAE (Imputation):\n",
      "18062.894611872147\n"
     ]
    }
   ],
   "source": [
    "print(\"MAE (Imputation):\")\n",
    "print(score_dataset(imputed_X_train, imputed_X_valid, y_train, y_valid))"
   ]
  },
  {
   "cell_type": "markdown",
   "id": "adf24546",
   "metadata": {
    "papermill": {
     "duration": 0.042067,
     "end_time": "2022-01-29T14:27:46.699492",
     "exception": false,
     "start_time": "2022-01-29T14:27:46.657425",
     "status": "completed"
    },
    "tags": []
   },
   "source": [
    "### Part B\n",
    "\n",
    "Compare the MAE from each approach.  Does anything surprise you about the results?  Why do you think one approach performed better than the other?"
   ]
  },
  {
   "cell_type": "code",
   "execution_count": 16,
   "id": "b3ff1749",
   "metadata": {
    "execution": {
     "iopub.execute_input": "2022-01-29T14:27:46.793117Z",
     "iopub.status.busy": "2022-01-29T14:27:46.792572Z",
     "iopub.status.idle": "2022-01-29T14:27:46.796311Z",
     "shell.execute_reply": "2022-01-29T14:27:46.796807Z",
     "shell.execute_reply.started": "2022-01-29T14:13:57.531168Z"
    },
    "papermill": {
     "duration": 0.053142,
     "end_time": "2022-01-29T14:27:46.796946",
     "exception": false,
     "start_time": "2022-01-29T14:27:46.743804",
     "status": "completed"
    },
    "tags": []
   },
   "outputs": [
    {
     "data": {
      "application/javascript": [
       "parent.postMessage({\"jupyterEvent\": \"custom.exercise_interaction\", \"data\": {\"outcomeType\": 1, \"valueTowardsCompletion\": 1.0, \"interactionType\": 1, \"questionType\": 4, \"questionId\": \"3.2_ImputeThought\", \"learnToolsVersion\": \"0.3.4\", \"failureMessage\": \"\", \"exceptionClass\": \"\", \"trace\": \"\"}}, \"*\")"
      ],
      "text/plain": [
       "<IPython.core.display.Javascript object>"
      ]
     },
     "metadata": {},
     "output_type": "display_data"
    },
    {
     "data": {
      "text/markdown": [
       "<span style=\"color:#33cc33\">Correct:</span> \n",
       "\n",
       "Given that thre are so few missing values in the dataset, we'd expect imputation to perform better than dropping columns entirely.  However, we see that dropping columns performs slightly better!  While this can probably partially be attributed to noise in the dataset, another potential explanation is that the imputation method is not a great match to this dataset.  That is, maybe instead of filling in the mean value, it makes more sense to set every missing value to a value of 0, to fill in the most frequently encountered value, or to use some other method.  For instance, consider the `GarageYrBlt` column (which indicates the year that the garage was built).  It's likely that in some cases, a missing value could indicate a house that does not have a garage.  Does it make more sense to fill in the median value along each column in this case?  Or could we get better results by filling in the minimum value along each column?  It's not quite clear what's best in this case, but perhaps we can rule out some options immediately - for instance, setting missing values in this column to 0 is likely to yield horrible results!"
      ],
      "text/plain": [
       "Correct: \n",
       "\n",
       "Given that thre are so few missing values in the dataset, we'd expect imputation to perform better than dropping columns entirely.  However, we see that dropping columns performs slightly better!  While this can probably partially be attributed to noise in the dataset, another potential explanation is that the imputation method is not a great match to this dataset.  That is, maybe instead of filling in the mean value, it makes more sense to set every missing value to a value of 0, to fill in the most frequently encountered value, or to use some other method.  For instance, consider the `GarageYrBlt` column (which indicates the year that the garage was built).  It's likely that in some cases, a missing value could indicate a house that does not have a garage.  Does it make more sense to fill in the median value along each column in this case?  Or could we get better results by filling in the minimum value along each column?  It's not quite clear what's best in this case, but perhaps we can rule out some options immediately - for instance, setting missing values in this column to 0 is likely to yield horrible results!"
      ]
     },
     "metadata": {},
     "output_type": "display_data"
    }
   ],
   "source": [
    "# Check your answer (Run this code cell to receive credit!)\n",
    "step_3.b.check()"
   ]
  },
  {
   "cell_type": "code",
   "execution_count": 17,
   "id": "be36e1e6",
   "metadata": {
    "execution": {
     "iopub.execute_input": "2022-01-29T14:27:46.860081Z",
     "iopub.status.busy": "2022-01-29T14:27:46.859557Z",
     "iopub.status.idle": "2022-01-29T14:27:46.861867Z",
     "shell.execute_reply": "2022-01-29T14:27:46.862360Z"
    },
    "papermill": {
     "duration": 0.035864,
     "end_time": "2022-01-29T14:27:46.862497",
     "exception": false,
     "start_time": "2022-01-29T14:27:46.826633",
     "status": "completed"
    },
    "tags": []
   },
   "outputs": [],
   "source": [
    "#step_3.b.hint()"
   ]
  },
  {
   "cell_type": "markdown",
   "id": "f0342c00",
   "metadata": {
    "papermill": {
     "duration": 0.029118,
     "end_time": "2022-01-29T14:27:46.921054",
     "exception": false,
     "start_time": "2022-01-29T14:27:46.891936",
     "status": "completed"
    },
    "tags": []
   },
   "source": [
    "# Step 4: Generate test predictions\n",
    "\n",
    "In this final step, you'll use any approach of your choosing to deal with missing values.  Once you've preprocessed the training and validation features, you'll train and evaluate a random forest model.  Then, you'll preprocess the test data before generating predictions that can be submitted to the competition!\n",
    "\n",
    "### Part A\n",
    "\n",
    "Use the next code cell to preprocess the training and validation data.  Set the preprocessed DataFrames to `final_X_train` and `final_X_valid`.  **You can use any approach of your choosing here!**  in order for this step to be marked as correct, you need only ensure:\n",
    "- the preprocessed DataFrames have the same number of columns,\n",
    "- the preprocessed DataFrames have no missing values, \n",
    "- `final_X_train` and `y_train` have the same number of rows, and\n",
    "- `final_X_valid` and `y_valid` have the same number of rows."
   ]
  },
  {
   "cell_type": "code",
   "execution_count": 18,
   "id": "5e453cc5",
   "metadata": {
    "execution": {
     "iopub.execute_input": "2022-01-29T14:27:46.983389Z",
     "iopub.status.busy": "2022-01-29T14:27:46.982790Z",
     "iopub.status.idle": "2022-01-29T14:27:47.004293Z",
     "shell.execute_reply": "2022-01-29T14:27:47.004702Z",
     "shell.execute_reply.started": "2022-01-29T14:21:09.491614Z"
    },
    "papermill": {
     "duration": 0.054252,
     "end_time": "2022-01-29T14:27:47.004851",
     "exception": false,
     "start_time": "2022-01-29T14:27:46.950599",
     "status": "completed"
    },
    "tags": []
   },
   "outputs": [
    {
     "data": {
      "application/javascript": [
       "parent.postMessage({\"jupyterEvent\": \"custom.exercise_interaction\", \"data\": {\"outcomeType\": 1, \"valueTowardsCompletion\": 1.0, \"interactionType\": 1, \"questionType\": 2, \"questionId\": \"4.1_PredsCodeA\", \"learnToolsVersion\": \"0.3.4\", \"failureMessage\": \"\", \"exceptionClass\": \"\", \"trace\": \"\"}}, \"*\")"
      ],
      "text/plain": [
       "<IPython.core.display.Javascript object>"
      ]
     },
     "metadata": {},
     "output_type": "display_data"
    },
    {
     "data": {
      "text/markdown": [
       "<span style=\"color:#33cc33\">Correct</span>"
      ],
      "text/plain": [
       "Correct"
      ]
     },
     "metadata": {},
     "output_type": "display_data"
    }
   ],
   "source": [
    "# Preprocessed training and validation features\n",
    "final_X_train = pd.DataFrame(impute.fit_transform(X_train))\n",
    "final_X_valid = pd.DataFrame(impute.transform(X_valid))\n",
    "\n",
    "# Check your answers\n",
    "step_4.a.check()"
   ]
  },
  {
   "cell_type": "code",
   "execution_count": 19,
   "id": "cd13ef62",
   "metadata": {
    "execution": {
     "iopub.execute_input": "2022-01-29T14:27:47.069773Z",
     "iopub.status.busy": "2022-01-29T14:27:47.069068Z",
     "iopub.status.idle": "2022-01-29T14:27:47.071622Z",
     "shell.execute_reply": "2022-01-29T14:27:47.071168Z",
     "shell.execute_reply.started": "2022-01-29T14:19:29.847740Z"
    },
    "papermill": {
     "duration": 0.036773,
     "end_time": "2022-01-29T14:27:47.071748",
     "exception": false,
     "start_time": "2022-01-29T14:27:47.034975",
     "status": "completed"
    },
    "tags": []
   },
   "outputs": [],
   "source": [
    "# Lines below will give you a hint or solution code\n",
    "#step_4.a.hint()\n",
    "#step_4.a.solution()"
   ]
  },
  {
   "cell_type": "markdown",
   "id": "75ec8408",
   "metadata": {
    "papermill": {
     "duration": 0.030279,
     "end_time": "2022-01-29T14:27:47.133075",
     "exception": false,
     "start_time": "2022-01-29T14:27:47.102796",
     "status": "completed"
    },
    "tags": []
   },
   "source": [
    "Run the next code cell to train and evaluate a random forest model.  (*Note that we don't use the `score_dataset()` function above, because we will soon use the trained model to generate test predictions!*)"
   ]
  },
  {
   "cell_type": "code",
   "execution_count": 20,
   "id": "92e21d16",
   "metadata": {
    "execution": {
     "iopub.execute_input": "2022-01-29T14:27:47.232315Z",
     "iopub.status.busy": "2022-01-29T14:27:47.200580Z",
     "iopub.status.idle": "2022-01-29T14:27:48.201644Z",
     "shell.execute_reply": "2022-01-29T14:27:48.202092Z",
     "shell.execute_reply.started": "2022-01-29T14:23:54.527843Z"
    },
    "papermill": {
     "duration": 1.038483,
     "end_time": "2022-01-29T14:27:48.202259",
     "exception": false,
     "start_time": "2022-01-29T14:27:47.163776",
     "status": "completed"
    },
    "tags": []
   },
   "outputs": [
    {
     "name": "stdout",
     "output_type": "stream",
     "text": [
      "MAE (Your approach):\n",
      "18062.894611872147\n"
     ]
    }
   ],
   "source": [
    "# Define and fit model\n",
    "model = RandomForestRegressor(n_estimators=100, random_state=0)\n",
    "model.fit(final_X_train, y_train)\n",
    "\n",
    "# Get validation predictions and MAE\n",
    "preds_valid = model.predict(final_X_valid)\n",
    "print(\"MAE (Your approach):\")\n",
    "print(mean_absolute_error(y_valid, preds_valid))"
   ]
  },
  {
   "cell_type": "markdown",
   "id": "2ae554a7",
   "metadata": {
    "papermill": {
     "duration": 0.029804,
     "end_time": "2022-01-29T14:27:48.262140",
     "exception": false,
     "start_time": "2022-01-29T14:27:48.232336",
     "status": "completed"
    },
    "tags": []
   },
   "source": [
    "### Part B\n",
    "\n",
    "Use the next code cell to preprocess your test data.  Make sure that you use a method that agrees with how you preprocessed the training and validation data, and set the preprocessed test features to `final_X_test`.\n",
    "\n",
    "Then, use the preprocessed test features and the trained model to generate test predictions in `preds_test`.\n",
    "\n",
    "In order for this step to be marked correct, you need only ensure:\n",
    "- the preprocessed test DataFrame has no missing values, and\n",
    "- `final_X_test` has the same number of rows as `X_test`."
   ]
  },
  {
   "cell_type": "code",
   "execution_count": 21,
   "id": "14c6b834",
   "metadata": {
    "execution": {
     "iopub.execute_input": "2022-01-29T14:27:48.325810Z",
     "iopub.status.busy": "2022-01-29T14:27:48.325286Z",
     "iopub.status.idle": "2022-01-29T14:27:48.364631Z",
     "shell.execute_reply": "2022-01-29T14:27:48.365129Z",
     "shell.execute_reply.started": "2022-01-29T14:27:15.411532Z"
    },
    "papermill": {
     "duration": 0.072863,
     "end_time": "2022-01-29T14:27:48.365325",
     "exception": false,
     "start_time": "2022-01-29T14:27:48.292462",
     "status": "completed"
    },
    "tags": []
   },
   "outputs": [
    {
     "data": {
      "application/javascript": [
       "parent.postMessage({\"jupyterEvent\": \"custom.exercise_interaction\", \"data\": {\"outcomeType\": 1, \"valueTowardsCompletion\": 1.0, \"interactionType\": 1, \"questionType\": 2, \"questionId\": \"4.2_PredsCodeB\", \"learnToolsVersion\": \"0.3.4\", \"failureMessage\": \"\", \"exceptionClass\": \"\", \"trace\": \"\"}}, \"*\")"
      ],
      "text/plain": [
       "<IPython.core.display.Javascript object>"
      ]
     },
     "metadata": {},
     "output_type": "display_data"
    },
    {
     "data": {
      "text/markdown": [
       "<span style=\"color:#33cc33\">Correct</span>"
      ],
      "text/plain": [
       "Correct"
      ]
     },
     "metadata": {},
     "output_type": "display_data"
    }
   ],
   "source": [
    "# Fill in the line below: preprocess test data\n",
    "\n",
    "final_X_test =  pd.DataFrame(impute.transform(X_test))\n",
    "\n",
    "# Fill in the line below: get test predictions\n",
    "preds_test =  model.predict(final_X_test)\n",
    "\n",
    "# Check your answers\n",
    "step_4.b.check()"
   ]
  },
  {
   "cell_type": "code",
   "execution_count": 22,
   "id": "0ae324c3",
   "metadata": {
    "execution": {
     "iopub.execute_input": "2022-01-29T14:27:48.432404Z",
     "iopub.status.busy": "2022-01-29T14:27:48.431596Z",
     "iopub.status.idle": "2022-01-29T14:27:48.433147Z",
     "shell.execute_reply": "2022-01-29T14:27:48.433716Z",
     "shell.execute_reply.started": "2022-01-29T14:26:44.634952Z"
    },
    "papermill": {
     "duration": 0.037058,
     "end_time": "2022-01-29T14:27:48.433896",
     "exception": false,
     "start_time": "2022-01-29T14:27:48.396838",
     "status": "completed"
    },
    "tags": []
   },
   "outputs": [],
   "source": [
    "# Lines below will give you a hint or solution code\n",
    "#step_4.b.hint()\n",
    "#step_4.b.solution()"
   ]
  },
  {
   "cell_type": "markdown",
   "id": "4bbc8ee3",
   "metadata": {
    "papermill": {
     "duration": 0.048304,
     "end_time": "2022-01-29T14:27:48.531312",
     "exception": false,
     "start_time": "2022-01-29T14:27:48.483008",
     "status": "completed"
    },
    "tags": []
   },
   "source": [
    "Run the next code cell without changes to save your results to a CSV file that can be submitted directly to the competition."
   ]
  },
  {
   "cell_type": "code",
   "execution_count": 23,
   "id": "0c698be5",
   "metadata": {
    "execution": {
     "iopub.execute_input": "2022-01-29T14:27:48.632777Z",
     "iopub.status.busy": "2022-01-29T14:27:48.631847Z",
     "iopub.status.idle": "2022-01-29T14:27:48.642490Z",
     "shell.execute_reply": "2022-01-29T14:27:48.641796Z"
    },
    "papermill": {
     "duration": 0.062691,
     "end_time": "2022-01-29T14:27:48.642644",
     "exception": false,
     "start_time": "2022-01-29T14:27:48.579953",
     "status": "completed"
    },
    "tags": []
   },
   "outputs": [],
   "source": [
    "# Save test predictions to file\n",
    "output = pd.DataFrame({'Id': X_test.index,\n",
    "                       'SalePrice': preds_test})\n",
    "output.to_csv('submission.csv', index=False)"
   ]
  },
  {
   "cell_type": "markdown",
   "id": "54f1f4e6",
   "metadata": {
    "papermill": {
     "duration": 0.047868,
     "end_time": "2022-01-29T14:27:48.739229",
     "exception": false,
     "start_time": "2022-01-29T14:27:48.691361",
     "status": "completed"
    },
    "tags": []
   },
   "source": [
    "# Submit your results\n",
    "\n",
    "Once you have successfully completed Step 4, you're ready to submit your results to the leaderboard!  (_You also learned how to do this in the previous exercise.  If you need a reminder of how to do this, please use the instructions below._)  \n",
    "\n",
    "First, you'll need to join the competition if you haven't already.  So open a new window by clicking on [this link](https://www.kaggle.com/c/home-data-for-ml-course).  Then click on the **Join Competition** button.\n",
    "\n",
    "![join competition image](https://i.imgur.com/wLmFtH3.png)\n",
    "\n",
    "Next, follow the instructions below:\n",
    "1. Begin by clicking on the **Save Version** button in the top right corner of the window.  This will generate a pop-up window.  \n",
    "2. Ensure that the **Save and Run All** option is selected, and then click on the **Save** button.\n",
    "3. This generates a window in the bottom left corner of the notebook.  After it has finished running, click on the number to the right of the **Save Version** button.  This pulls up a list of versions on the right of the screen.  Click on the ellipsis **(...)** to the right of the most recent version, and select **Open in Viewer**.  This brings you into view mode of the same page. You will need to scroll down to get back to these instructions.\n",
    "4. Click on the **Output** tab on the right of the screen.  Then, click on the file you would like to submit, and click on the **Submit** button to submit your results to the leaderboard.\n",
    "\n",
    "You have now successfully submitted to the competition!\n",
    "\n",
    "If you want to keep working to improve your performance, select the **Edit** button in the top right of the screen. Then you can change your code and repeat the process. There's a lot of room to improve, and you will climb up the leaderboard as you work.\n",
    "\n",
    "\n",
    "# Keep going\n",
    "\n",
    "Move on to learn what **[categorical variables](https://www.kaggle.com/alexisbcook/categorical-variables)** are, along with how to incorporate them into your machine learning models.  Categorical variables are very common in real-world data, but you'll get an error if you try to plug them into your models without processing them first!"
   ]
  },
  {
   "cell_type": "markdown",
   "id": "1076a2ba",
   "metadata": {
    "papermill": {
     "duration": 0.048148,
     "end_time": "2022-01-29T14:27:48.836052",
     "exception": false,
     "start_time": "2022-01-29T14:27:48.787904",
     "status": "completed"
    },
    "tags": []
   },
   "source": [
    "---\n",
    "\n",
    "\n",
    "\n",
    "\n",
    "*Have questions or comments? Visit the [course discussion forum](https://www.kaggle.com/learn/intermediate-machine-learning/discussion) to chat with other learners.*"
   ]
  }
 ],
 "metadata": {
  "kernelspec": {
   "display_name": "Python 3",
   "language": "python",
   "name": "python3"
  },
  "language_info": {
   "codemirror_mode": {
    "name": "ipython",
    "version": 3
   },
   "file_extension": ".py",
   "mimetype": "text/x-python",
   "name": "python",
   "nbconvert_exporter": "python",
   "pygments_lexer": "ipython3",
   "version": "3.7.12"
  },
  "papermill": {
   "default_parameters": {},
   "duration": 16.638486,
   "end_time": "2022-01-29T14:27:49.798092",
   "environment_variables": {},
   "exception": null,
   "input_path": "__notebook__.ipynb",
   "output_path": "__notebook__.ipynb",
   "parameters": {},
   "start_time": "2022-01-29T14:27:33.159606",
   "version": "2.3.3"
  }
 },
 "nbformat": 4,
 "nbformat_minor": 5
}
